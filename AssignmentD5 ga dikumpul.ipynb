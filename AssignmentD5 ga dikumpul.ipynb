{
 "cells": [
  {
   "cell_type": "markdown",
   "metadata": {},
   "source": [
    "#Soal 1\n",
    "\n",
    "Python’s built-in min() and max() functions return the smallest and biggest numbers in a list of numbers passed, respectively. In this exercise, you’ll reimplement the behavior of these functions. Write a getSmallest() function that has a numbers parameter. The numbers parameter will be a list of integer and floating-point number values. The function returns the smallest value in the list. Your solution is correct if the following assert statements’ conditions are all True:\n",
    "\n",
    "assert getSmallest([1, 2, 3]) == 1\n",
    "assert getSmallest([3, 2, 1]) == 1\n",
    "assert getSmallest([28, 25, 42, 2, 28]) == 2\n",
    "assert getSmallest([1]) == 1\n",
    "assert getSmallest([]) == None"
   ]
  },
  {
   "cell_type": "code",
   "execution_count": 4,
   "metadata": {},
   "outputs": [],
   "source": [
    "# Soal 1\n",
    "\n",
    "def getSmallest(numbers):\n",
    "    if not numbers:\n",
    "        return None\n",
    "    smallest = numbers[0]\n",
    "    for num in numbers:\n",
    "        if num < smallest:\n",
    "            smallest = num\n",
    "    return smallest\n",
    "\n",
    "# Test cases\n",
    "assert getSmallest([1, 2, 3]) == 1\n",
    "assert getSmallest([3, 2, 1]) == 1\n",
    "assert getSmallest([28, 25, 42, 2, 28]) == 2\n",
    "assert getSmallest([1]) == 1\n",
    "assert getSmallest([]) == None\n"
   ]
  },
  {
   "cell_type": "markdown",
   "metadata": {},
   "source": [
    "#Soal 2\n",
    "\n",
    "You are given a tuple nums, write a sortTuple() function to sort value by second item.\n",
    "\n",
    "# input\n",
    "nums = (('a', 1), ('b', 3), ('c', 5), ('d', 2))\n",
    "sortTuple(nums)\n",
    "\n",
    "# output\n",
    "(('a', 1), ('d', 2), ('b', 3), ('c', 5))"
   ]
  },
  {
   "cell_type": "code",
   "execution_count": 5,
   "metadata": {},
   "outputs": [
    {
     "name": "stdout",
     "output_type": "stream",
     "text": [
      "(('a', 1), ('d', 2), ('b', 3), ('c', 5))\n"
     ]
    }
   ],
   "source": [
    "# Soal 2\n",
    "\n",
    "def sortTuple(nums):\n",
    "    sorted_nums = sorted(nums, key=lambda x: x[1])\n",
    "    return tuple(sorted_nums)\n",
    "\n",
    "nums = (('a', 1), ('b', 3), ('c', 5), ('d', 2))\n",
    "sorted_nums = sortTuple(nums)\n",
    "print(sorted_nums)"
   ]
  },
  {
   "cell_type": "markdown",
   "metadata": {},
   "source": [
    "#Soal 3\n",
    "\n",
    "You are given a list `nums`, write a `findIndex()` function to return the index of two items whose sum equals the `target`. Each input has one solution, and you cannot use the same item twice.\n",
    "\n",
    "# input\n",
    "nums = [2, 7, 11, 15] \n",
    "target = 9\n",
    "findIndex(nums, target)\n",
    "\n",
    "# output\n",
    "[0, 1]"
   ]
  },
  {
   "cell_type": "code",
   "execution_count": 14,
   "metadata": {},
   "outputs": [
    {
     "name": "stdout",
     "output_type": "stream",
     "text": [
      "[0, 1]\n"
     ]
    }
   ],
   "source": [
    "# Soal 3\n",
    "def findIndex(nums, target):\n",
    "    lookup = {}\n",
    "    for i, num in enumerate(nums):\n",
    "        if target - num in lookup:\n",
    "            return [lookup[target - num], i]\n",
    "        lookup[num] = i\n",
    "\n",
    "nums = [2, 7, 11, 15]\n",
    "target = 9\n",
    "print (findIndex(nums, target))"
   ]
  },
  {
   "cell_type": "markdown",
   "metadata": {},
   "source": [
    "# Soal 4\n",
    "You are given two lists l1 and l2 that represent two positive integers each. Each digit of the numbers is stored in reverse order, and each item represents one digit. Write a addList() function to add the two numbers and return the sum as an inverted list.\n",
    "\n",
    "# input\n",
    "l1 = [2, 4, 3]\n",
    "l2 = [5, 6, 4]\n",
    "addList(l1, l2)\n",
    "\n",
    "# output\n",
    "[7, 0, 8]"
   ]
  },
  {
   "cell_type": "code",
   "execution_count": 7,
   "metadata": {},
   "outputs": [
    {
     "name": "stdout",
     "output_type": "stream",
     "text": [
      "[7, 0, 8]\n"
     ]
    }
   ],
   "source": [
    "# Soal 4\n",
    "def addList(l1, l2):\n",
    "    num1 = int(''.join(map(str, l1[::-1])))\n",
    "    num2 = int(''.join(map(str, l2[::-1])))\n",
    "    return [int(i) for i in str(num1 + num2)[::-1]]\n",
    "\n",
    "l1 = [2 ,4 ,3]\n",
    "l2 = [5 ,6 ,4]\n",
    "result = addList(l1,l2)\n",
    "print(result)"
   ]
  },
  {
   "cell_type": "code",
   "execution_count": 8,
   "metadata": {},
   "outputs": [],
   "source": [
    "# Soal 5"
   ]
  },
  {
   "cell_type": "code",
   "execution_count": 9,
   "metadata": {},
   "outputs": [],
   "source": [
    "#Soal 6"
   ]
  },
  {
   "cell_type": "code",
   "execution_count": 18,
   "metadata": {},
   "outputs": [
    {
     "ename": "NameError",
     "evalue": "name 'hasLowerCase' is not defined",
     "output_type": "error",
     "traceback": [
      "\u001b[0;31m---------------------------------------------------------------------------\u001b[0m",
      "\u001b[0;31mNameError\u001b[0m                                 Traceback (most recent call last)",
      "Cell \u001b[0;32mIn[18], line 35\u001b[0m\n\u001b[1;32m     32\u001b[0m     random\u001b[39m.\u001b[39mshuffle(password)\n\u001b[1;32m     33\u001b[0m     \u001b[39mreturn\u001b[39;00m \u001b[39m'\u001b[39m\u001b[39m'\u001b[39m\u001b[39m.\u001b[39mjoin(password)\n\u001b[0;32m---> 35\u001b[0m \u001b[39massert\u001b[39;00m hasLowerCase \u001b[39mand\u001b[39;00m hasUpperCase \u001b[39mand\u001b[39;00m hasNumber \u001b[39mand\u001b[39;00m hasSpecial\n\u001b[1;32m     37\u001b[0m password \u001b[39m=\u001b[39m generatePassword(\u001b[39m8\u001b[39m)\n\u001b[1;32m     38\u001b[0m \u001b[39mprint\u001b[39m(password)\n",
      "\u001b[0;31mNameError\u001b[0m: name 'hasLowerCase' is not defined"
     ]
    }
   ],
   "source": [
    "#Soal 7\n",
    "\n",
    "import random\n",
    "\n",
    "def generatePassword(length):\n",
    "    LOWER_LETTERS = 'abcdefghijklmnopqrstuvwxyz'\n",
    "    UPPER_LETTERS = 'ABCDEFGHIJKLMNOPQRSTUVWXYZ'\n",
    "    NUMBERS = '1234567890'\n",
    "    SPECIAL = '~!@#$%^&*()_+'\n",
    "\n",
    "    if length < 12:\n",
    "        length = 12\n",
    "\n",
    "    password_characters = LOWER_LETTERS + UPPER_LETTERS + NUMBERS + SPECIAL\n",
    "\n",
    "    password = []\n",
    "\n",
    "    # Ensure at least one character from each category is included\n",
    "    password.append(random.choice(LOWER_LETTERS))\n",
    "    password.append(random.choice(UPPER_LETTERS))\n",
    "    password.append(random.choice(NUMBERS))\n",
    "    password.append(random.choice(SPECIAL))\n",
    "\n",
    "\t# Fill the rest of the password length with random choices\n",
    "\t# from all categories combined.\n",
    "\t# Subtract 4 because we've already added one character \n",
    "\t# from each category above.\n",
    "\t\n",
    "    for i in range(length - 4):\n",
    "        password.append(random.choice(password_characters))\n",
    "\n",
    "    random.shuffle(password)\n",
    "    return ''.join(password)\n",
    "\n",
    "password = generatePassword(8)\n",
    "print(password)\n",
    "\n"
   ]
  }
 ],
 "metadata": {
  "kernelspec": {
   "display_name": "Python 3",
   "language": "python",
   "name": "python3"
  },
  "language_info": {
   "codemirror_mode": {
    "name": "ipython",
    "version": 3
   },
   "file_extension": ".py",
   "mimetype": "text/x-python",
   "name": "python",
   "nbconvert_exporter": "python",
   "pygments_lexer": "ipython3",
   "version": "3.11.5"
  },
  "orig_nbformat": 4
 },
 "nbformat": 4,
 "nbformat_minor": 2
}
