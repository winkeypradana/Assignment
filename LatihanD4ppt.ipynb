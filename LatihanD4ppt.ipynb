{
 "cells": [
  {
   "cell_type": "code",
   "execution_count": 19,
   "metadata": {},
   "outputs": [
    {
     "name": "stdout",
     "output_type": "stream",
     "text": [
      "['Ganjil', 'Ganjil', 'Genap', 'Ganjil']\n"
     ]
    }
   ],
   "source": [
    "#soal 1\n",
    "list1 = [1,3,4,5]\n",
    "list2 = [22,17,19,20,14]\n",
    "list3 = [1,3,5]\n",
    "list2 = [2,4,6]\n",
    "\n",
    "list_angka=list(map(int,input(\"Enter a list\").strip().split()))\n",
    "def angkaGenapGanjil(angka):\n",
    "    if angka % 2 == 0:\n",
    "        return \"Genap\"\n",
    "    else:\n",
    "        return \"Ganjil\"\n",
    "\n",
    "answer = print(str(list(map(angkaGenapGanjil,list_angka))))\n"
   ]
  },
  {
   "cell_type": "markdown",
   "metadata": {},
   "source": [
    "Untuk soal Latihan kedua, Coba teman-teman membuat sebuah function yang dapat melakukan filtering terhadap list gaji yang berisikan 5 data ini. Carilah data gaji yang akan tetap bernilai diatas 9jt setelah dikurangi 5% dari nilai gaji tersebut. Berarti dari kelima data gaji pada list tersebut, hanya akan tersisa tiga data saja. Dimana hanya 3 data saja dari 5 data pada list tersebut yang akan lebih besar dari 9jt setelah dikurangi 5% dari nominal gajinya.\n",
    "\n",
    "Untuk hintnya, teman2 dapat menggunakan filter function dari Python untuk melakukan ini.\n"
   ]
  },
  {
   "cell_type": "code",
   "execution_count": 24,
   "metadata": {},
   "outputs": [
    {
     "name": "stdout",
     "output_type": "stream",
     "text": [
      "['9800000', '9500000', '10300000']\n"
     ]
    }
   ],
   "source": [
    "#soal 2\n",
    "\n",
    "def discount(ogPrice):\n",
    "    ogPrice -= ogPrice * 0.05\n",
    "    return ogPrice\n",
    "\n",
    "def limitCheck(Salary):\n",
    "    if type(Salary) == int :\n",
    "        if ( 9000000 - discount(Salary) ) <= 0:\n",
    "            return True\n",
    "        else:\n",
    "            return False\n",
    "    else:\n",
    "        return\n",
    "    \n",
    "\n",
    "DirtyListGaji = list(\n",
    "    input(\"\\nEnter the salaries : \").strip().split())\n",
    "\n",
    "toberemoved = '.'\n",
    "\n",
    "def cleaning(Number):\n",
    "    cleanedNum = ''\n",
    "    for n in Number:\n",
    "        if n not in toberemoved:\n",
    "            cleanedNum += n\n",
    "    return cleanedNum\n",
    "\n",
    "    \n",
    "def TrueClean(Pay):\n",
    "    calcPay = int(cleaning(Pay))\n",
    "    if limitCheck(calcPay) == True:\n",
    "        return Pay\n",
    "    else:\n",
    "        return \n",
    "\n",
    "print(str(list(filter(TrueClean, DirtyListGaji))))"
   ]
  }
 ],
 "metadata": {
  "kernelspec": {
   "display_name": "Python 3",
   "language": "python",
   "name": "python3"
  },
  "language_info": {
   "codemirror_mode": {
    "name": "ipython",
    "version": 3
   },
   "file_extension": ".py",
   "mimetype": "text/x-python",
   "name": "python",
   "nbconvert_exporter": "python",
   "pygments_lexer": "ipython3",
   "version": "3.11.5"
  },
  "orig_nbformat": 4
 },
 "nbformat": 4,
 "nbformat_minor": 2
}
