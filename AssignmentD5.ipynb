{
 "cells": [
  {
   "cell_type": "markdown",
   "metadata": {},
   "source": [
    "# Soal 8\n",
    "Write a sumList() function that has a num parameter. The num parameter contains a list of integer numbers. The function must return all the triplets [nums[i], nums[j], nums[k]] such that i != j, i != k, and j != k, and nums[i] + nums[j] + nums[k] == 0. Notice that the solution set must not contain duplicate triplets. Your solution is correct if the following input & output conditions are similar:\n",
    "\n",
    "# input\n",
    "num = [-1, 0, 1, -2, -1, 2, -4]\n",
    "sumList(num)\n",
    "\n",
    "# output \n",
    "[-2, 0, 2], [-1, -1, 2], [-1, 0, 1]"
   ]
  },
  {
   "cell_type": "code",
   "execution_count": 4,
   "metadata": {},
   "outputs": [
    {
     "name": "stdout",
     "output_type": "stream",
     "text": [
      "[[-1, -1, 2], [-1, 0, 1]]\n"
     ]
    }
   ],
   "source": [
    "# Soal 8\n",
    "\n",
    "num = [-1, 0, 1, -2, -1, 2, -4]\n",
    "\n",
    "def sumList(nums):\n",
    "    nums.sort()\n",
    "    result = []\n",
    "\n",
    "    for i in range(len(nums)-2):\n",
    "        if i > 0 and nums [i] == nums [i-1]:\n",
    "            continue\n",
    "    \n",
    "        left, right = i + 1, len(nums)-1\n",
    "        while left < right:\n",
    "            total = nums[i] + nums[left] + nums[right]\n",
    "            if total > 0:\n",
    "                right -= 1\n",
    "            elif total < 0:\n",
    "                left += 1\n",
    "            else:\n",
    "                result.append ([nums[i], nums[left], nums[right]])\n",
    "            while left < right and nums[left] == nums[left+1]:\n",
    "                left += 1\n",
    "            while left < right and nums[right] == nums[right-1]:\n",
    "                right -=1\n",
    "            left += 1 ; right -= 1\n",
    "    return result\n",
    "\n",
    "\n",
    "print(sumList(num))"
   ]
  }
 ],
 "metadata": {
  "kernelspec": {
   "display_name": "Python 3",
   "language": "python",
   "name": "python3"
  },
  "language_info": {
   "codemirror_mode": {
    "name": "ipython",
    "version": 3
   },
   "file_extension": ".py",
   "mimetype": "text/x-python",
   "name": "python",
   "nbconvert_exporter": "python",
   "pygments_lexer": "ipython3",
   "version": "3.11.5"
  },
  "orig_nbformat": 4
 },
 "nbformat": 4,
 "nbformat_minor": 2
}
