{
 "cells": [
  {
   "cell_type": "markdown",
   "metadata": {},
   "source": [
    "Soal 1\n",
    "\n",
    "Write a factorial() function for calculating the factorial of the input number, and please use the recursion schema. Your solution is correct if the following assert statements’ conditions are all True:\n",
    "\n",
    "assert factorial(0) == 1\n",
    "assert factorial(3) == 6\n",
    "assert factorial(10) == 3628800\n",
    "assert factorial(-10) == None"
   ]
  },
  {
   "cell_type": "code",
   "execution_count": 25,
   "metadata": {},
   "outputs": [],
   "source": [
    "#soal 1\n",
    "\n",
    "def factorial (n):\n",
    "    if n < 0:\n",
    "        return None\n",
    "    elif n == 0:\n",
    "        return 1\n",
    "    else:\n",
    "        return n * factorial(n-1)\n",
    "       \n",
    "assert factorial(0) == 1\n",
    "assert factorial(3) == 6\n",
    "assert factorial(10) == 3628800\n",
    "assert factorial(-10) == None"
   ]
  },
  {
   "cell_type": "markdown",
   "metadata": {},
   "source": [
    "Soal 2\n",
    "\n",
    "Websites often use relative timestamps such as 3 days ago or about 3h ago so the user doesn’t need to compare an absolute timestamp to the current time. In this exercise, you write a function that converts a number of seconds into a string with the number of hours, minutes, and seconds.\n",
    "\n",
    "Write a `timeConvert()` function that has a `totalSeconds` parameter. The argument for this parameter will be the number of seconds to be translated into the number of hours, minutes, and seconds. If the amount for the hours, minutes, or seconds is zero, don’t show it: the function should return `10m` rather than '0h 10m 0s'. \n",
    "\n",
    "Your solution is correct if the following assert statements’ conditions are all True:\n",
    "\n",
    "assert timeConvert(0) == '0s'\n",
    "assert timeConvert(30) == '30s'\n",
    "assert timeConvert(60) == '1m'\n",
    "assert timeConvert(90) == '1m 30s'\n",
    "assert timeConvert(3600) == '1h'\n",
    "assert timeConvert(3601) == '1h 1s'\n",
    "assert timeConvert(3661) == '1h 1m 1s'\n",
    "assert timeConvert(90042) == '25h 42s'"
   ]
  },
  {
   "cell_type": "code",
   "execution_count": null,
   "metadata": {},
   "outputs": [],
   "source": [
    "def timeConvert"
   ]
  },
  {
   "cell_type": "markdown",
   "metadata": {},
   "source": [
    "Soal 3\n",
    "\n",
    "Area and volume are straightforward calculations. You will write two functions, `area()` and `volume()`for this exercise. Each function is a simple calculation and return statement. However, area and volume are slightly more complicated because they involve multiple parameters. This exercise continues to challenge you to translate mathematical formulas into Python code.\n",
    "\n",
    "The formulas for calculating area and volume area are based on the length (L), width (W), and height (H) of the shape:\n",
    "\n",
    "- area = L × W\n",
    "- volume = L × W × H\n",
    "\n",
    "Your solution is correct if the following assert statements conditions are all True:\n",
    "\n",
    "assert area(10, 10) == 100\n",
    "assert area(0, 9999) == 0\n",
    "assert volume(10, 10, 10) == 1000\n",
    "assert volume(5, 8, 10) == 400"
   ]
  },
  {
   "cell_type": "code",
   "execution_count": 38,
   "metadata": {},
   "outputs": [],
   "source": [
    "#soal 3\n",
    "    \n",
    "def area(length, width):\n",
    "    return length * width\n",
    "\n",
    "def volume(length, width, height):\n",
    "    return length * width * height\n",
    " \n",
    "        \n",
    "assert area(10, 10) == 100 \n",
    "assert area(0, 9999) == 0\n",
    "assert volume(10, 10, 10) == 1000\n",
    "assert volume(5, 8, 10) == 400"
   ]
  },
  {
   "cell_type": "markdown",
   "metadata": {},
   "source": [
    "Soal 4\n",
    "\n",
    "A chess board has a checker-pattern of white and black tiles. Write a getColor() function that has parameters column and row. The function either returns 'black' or 'white' depending on the color at the specified column and row. Chess boards are 8 x 8 spaces in size, and the columns and rows in this program begin at 0 and end at 7 like in Figure. If the arguments for column or row are outside the 0 to 7 range, the function returns a blank string.\n",
    "\n",
    "Your solution is correct if the following assert statements conditions are all True:\n",
    "\n",
    "assert getColor(1, 1) == 'white'\n",
    "assert getColor(2, 1) == 'black'\n",
    "assert getColor(1, 2) == 'black'\n",
    "assert getColor(8, 8) == 'white'\n",
    "assert getColor(0, 8) == ''\n",
    "assert getColor(2, 9) == ''"
   ]
  },
  {
   "cell_type": "code",
   "execution_count": 75,
   "metadata": {},
   "outputs": [],
   "source": [
    "\n",
    "def getColor (column, row):\n",
    "    if column > 8 or column <= 0 or row >8 or row <=0:\n",
    "        return ''\n",
    "    if column % 2 == row % 2 :\n",
    "        return 'white'\n",
    "    else:\n",
    "        return 'black'\n",
    "\n",
    "assert getColor(1, 1) == 'white'\n",
    "assert getColor(2, 1) == 'black'\n",
    "assert getColor(1, 2) == 'black'\n",
    "assert getColor(8, 8) == 'white'\n",
    "assert getColor(0, 8) == ''\n",
    "assert getColor(2, 9) == ''"
   ]
  },
  {
   "cell_type": "markdown",
   "metadata": {},
   "source": [
    "Soal 5\n",
    "\n",
    "The Caesar cipher is an ancient encryption algorithm used by Julius Caesar. It encrypts letters by shifting them over by a certain number of places in the alphabet. We call the length of shift the key. For example, if the key is 4, then A becomes E, B becomes F, C becomes G, and so on. To decrypt the message, you must shift the encrypted letters in the opposite direction. Write encrypthor() function that has parameter message. This function lets the user encrypt messages according to this algorithm. Your solution is correct if the following output are all similar:\n",
    "\n",
    "# input\n",
    "encrpythor('Meet me by the rose bushes tonight.')\n",
    "\n",
    "# output \n",
    "'QIIX QI FC XLI VSWI FYWLIW XSRMKLX.'"
   ]
  },
  {
   "cell_type": "markdown",
   "metadata": {},
   "source": [
    "Soal 6\n",
    "\n",
    "Earth takes about 365.25 days to revolve around the sun. This slight offset would cause our 365-day calendar to become inaccurate over time. Therefore, leap years have an extra day, February 29th. A leap year occurs on all years divisible by four (e.g., 2016, 2020, 2024, and so on). However, the exception to this rule is that years divisible by one hundred (e.g., 2100, 2200, 2300, and so on) aren’t leap years. And the exception to this exception is that years divisible by four hundred (e.g., 2000, 2400, and so on) are leap years. Write a `isLeapYear()` function with an integer year parameter. If year is a leap year, the function returns True. Otherwise, the function returns False. Your solution is correct if the following assert statements’ conditions are all True:\n",
    "\n",
    "assert isLeapYear(1999) == False\n",
    "assert isLeapYear(2000) == True\n",
    "assert isLeapYear(2001) == False\n",
    "assert isLeapYear(2004) == True\n",
    "assert isLeapYear(2100) == False\n",
    "assert isLeapYear(2400) == True"
   ]
  },
  {
   "cell_type": "code",
   "execution_count": 69,
   "metadata": {},
   "outputs": [],
   "source": [
    "def isLeapYear(year):\n",
    "    if int(year % 400 == 0):\n",
    "        return True\n",
    "    elif int(year % 100 == 0):\n",
    "        return False\n",
    "    elif int(year % 4 == 0):\n",
    "        return True\n",
    "    else:\n",
    "        return False\n",
    "\n",
    "assert isLeapYear(1999) == False\n",
    "assert isLeapYear(2000) == True\n",
    "assert isLeapYear(2001) == False\n",
    "assert isLeapYear(2004) == True\n",
    "assert isLeapYear(2100) == False\n",
    "assert isLeapYear(2400) == True"
   ]
  }
 ],
 "metadata": {
  "kernelspec": {
   "display_name": "Python 3",
   "language": "python",
   "name": "python3"
  },
  "language_info": {
   "codemirror_mode": {
    "name": "ipython",
    "version": 3
   },
   "file_extension": ".py",
   "mimetype": "text/x-python",
   "name": "python",
   "nbconvert_exporter": "python",
   "pygments_lexer": "ipython3",
   "version": "3.11.5"
  },
  "orig_nbformat": 4
 },
 "nbformat": 4,
 "nbformat_minor": 2
}
