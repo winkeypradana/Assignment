{
 "cells": [
  {
   "cell_type": "code",
   "execution_count": 26,
   "metadata": {},
   "outputs": [
    {
     "name": "stdout",
     "output_type": "stream",
     "text": [
      "Angka tersebut termasuk genap\n"
     ]
    }
   ],
   "source": [
    "#Soal 1 \n",
    "\n",
    "#Periksa angka termasuk ganjil atau genap\n",
    "\n",
    "num = int(input('masukan bilangan:'))\n",
    "\n",
    "if num % 2 == 0:\n",
    "    print(f'Angka tersebut termasuk genap')\n",
    "else:\n",
    "    print (f'Angka tersebut termasuk ganjil')\n",
    "\n"
   ]
  },
  {
   "cell_type": "code",
   "execution_count": 5,
   "metadata": {},
   "outputs": [
    {
     "name": "stdout",
     "output_type": "stream",
     "text": [
      "Massa 67.0 kg dan tinggi 1.8m\n",
      "IMT = 21.1\n",
      "Berat badan ideal\n"
     ]
    }
   ],
   "source": [
    "#Soal 2\n",
    "\n",
    "massa = float(input('Masukan berat badan anda (kg): '))\n",
    "tinggi_cm = float(input('Masukan tinggi badan anda (cm):'))\n",
    "tinggi_m = tinggi_cm / 100\n",
    "\n",
    "imt = massa / tinggi_m **2\n",
    "\n",
    "print (f'Massa {massa} kg dan tinggi {tinggi_m:.1f}m')\n",
    "print (f'IMT = {imt:.1f}')\n",
    "\n",
    "if imt < 18.5 :\n",
    "    print('Berat badan kurang')\n",
    "elif 18.5 <= imt <= 24.9:\n",
    "    print('Berat badan ideal')\n",
    "elif 24.9 < imt <= 29.9:\n",
    "    print ('Berat badan berlebih')\n",
    "elif 29.9 < imt <= 39.9:\n",
    "    print('Berat badan sangat berlebih')\n",
    "else:\n",
    "    print('Obesitas')"
   ]
  },
  {
   "cell_type": "code",
   "execution_count": 14,
   "metadata": {},
   "outputs": [
    {
     "ename": "IndentationError",
     "evalue": "unindent does not match any outer indentation level (<tokenize>, line 9)",
     "output_type": "error",
     "traceback": [
      "\u001b[0;36m  File \u001b[0;32m<tokenize>:9\u001b[0;36m\u001b[0m\n\u001b[0;31m    stars += stars\u001b[0m\n\u001b[0m    ^\u001b[0m\n\u001b[0;31mIndentationError\u001b[0m\u001b[0;31m:\u001b[0m unindent does not match any outer indentation level\n"
     ]
    }
   ],
   "source": [
    "#Soal 3\n",
    "\n",
    "stars = ''\n",
    "size = 9\n",
    " \n",
    "for a in range (size):\n",
    "    for b in range (5-a):\n",
    "        print(stars, end='')\n",
    "     if a == \n",
    "     print(stars)\n",
    "   \n"
   ]
  },
  {
   "cell_type": "code",
   "execution_count": 16,
   "metadata": {},
   "outputs": [
    {
     "name": "stdout",
     "output_type": "stream",
     "text": [
      "\n",
      "Detail Belanja\n",
      "\n",
      "Apel : 20 x 10000 = Rp 200000\n",
      "Jeruk : 20 x 15000 = Rp 300000\n",
      "Anggur : 20 x 20000 = Rp 400000\n",
      "Total : Rp 900000\n",
      "\n",
      "Maaf jumlah kekurangan yang anda harus bayar adalah: Rp. -800000\n",
      "Terimakasih\n"
     ]
    }
   ],
   "source": [
    "#Soal 4\n",
    "\n",
    "# Stock buah\n",
    "sApel = 20\n",
    "sJeruk = 40\n",
    "sAnggur = 60\n",
    "\n",
    "# Init harga\n",
    "priceApel = 10000\n",
    "priceJeruk = 15000\n",
    "priceAnggur = 20000\n",
    "\n",
    "# Init jumlah buah\n",
    "while True:\n",
    "    nApel =int(input('Input jumlah apel: '))\n",
    "    if nApel <= sApel:\n",
    "        break\n",
    "    else:\n",
    "         print(f'Stock apel yang tersedia hanya {sApel}')\n",
    "\n",
    "while True:\n",
    "    nJeruk = int(input('Input jumlah jeruk:'))\n",
    "    if nJeruk <= sJeruk:\n",
    "        break\n",
    "    else:\n",
    "        print (f'Stock jeruk yang tersedia hanya {sJeruk}')\n",
    "\n",
    "while True:\n",
    "    nAnggur = int(input('Input jumlah Anggur:'))\n",
    "    if nAnggur <= sAnggur:\n",
    "         break\n",
    "    else:\n",
    "         print (f'Stock anggur yang tersedia hanya {sAnggur}')\n",
    "\n",
    "# Hitung harga per buah\n",
    "totalPriceApel = nApel * priceApel\n",
    "totalPriceJeruk = nJeruk * priceJeruk\n",
    "totalPriceAnggur = nAnggur * priceAnggur\n",
    "\n",
    "# Hitung harga total buah\n",
    "priceTotal = totalPriceAnggur + totalPriceApel + totalPriceJeruk\n",
    "# show\n",
    "print (\n",
    "    f'''\n",
    "Detail Belanja\n",
    "\n",
    "Apel : {nApel} x {priceApel} = Rp {totalPriceApel}\n",
    "Jeruk : {nJeruk} x {priceJeruk} = Rp {totalPriceJeruk}\n",
    "Anggur : {nAnggur} x {priceAnggur} = Rp {totalPriceAnggur}\n",
    "Total : Rp {priceTotal}\n",
    "'''\n",
    ")\n",
    "\n",
    "# pembayaran\n",
    "\n",
    "while True:\n",
    "    npembayaran = (int(input('Silahkan masukan nominal uang untuk membayar: ')))\n",
    "    selisihpembayaran = npembayaran - priceTotal\n",
    "    if npembayaran < priceTotal:\n",
    "        print (f'Maaf jumlah kekurangan yang anda harus bayar adalah: Rp. {selisihpembayaran}')\n",
    "    elif npembayaran > priceTotal:\n",
    "        print(f'Terimakasih, berikut jumlah kembaliannya:Rp. {selisihpembayaran}')\n",
    "        break\n",
    "    else:\n",
    "        npembayaran == selisihpembayaran\n",
    "        print(f'Terimakasih')\n",
    "        break\n"
   ]
  }
 ],
 "metadata": {
  "kernelspec": {
   "display_name": "Python 3",
   "language": "python",
   "name": "python3"
  },
  "language_info": {
   "codemirror_mode": {
    "name": "ipython",
    "version": 3
   },
   "file_extension": ".py",
   "mimetype": "text/x-python",
   "name": "python",
   "nbconvert_exporter": "python",
   "pygments_lexer": "ipython3",
   "version": "3.11.5"
  },
  "orig_nbformat": 4
 },
 "nbformat": 4,
 "nbformat_minor": 2
}
