{
 "cells": [
  {
   "cell_type": "code",
   "execution_count": 5,
   "metadata": {},
   "outputs": [
    {
     "name": "stdout",
     "output_type": "stream",
     "text": [
      "Appeared 3 times\n"
     ]
    }
   ],
   "source": [
    "#Soal 1\n",
    "\n",
    "# input: \n",
    "spam = 'ababaababbbbcccbabcc'\n",
    "word = 'bab'\n",
    "\n",
    "# output: 'Appeard 3 times'\n",
    "\n",
    "count = spam.count(word)\n",
    "if count == 0:\n",
    "    print('Appeared 0 time')\n",
    "else:\n",
    "    print(f'Appeared {count} times')"
   ]
  },
  {
   "cell_type": "code",
   "execution_count": 15,
   "metadata": {},
   "outputs": [
    {
     "name": "stdout",
     "output_type": "stream",
     "text": [
      "False\n"
     ]
    }
   ],
   "source": [
    "#Soal 2\n",
    "#Count the number of o and x in the string spam (case sensitive), if they are equal, print True, otherwise print False.\n",
    "\n",
    "# input:\n",
    "spam = 'oOxxX'\n",
    "\n",
    "# output: False\n",
    "\n",
    "count_O = spam.count('o')\n",
    "count_x = spam.count('x')\n",
    "\n",
    "if count_O == count_x:\n",
    "    print(f'True')\n",
    "else:\n",
    "    print(f'False')"
   ]
  },
  {
   "cell_type": "code",
   "execution_count": 18,
   "metadata": {},
   "outputs": [
    {
     "name": "stdout",
     "output_type": "stream",
     "text": [
      "153 is a narcissistic number\n"
     ]
    }
   ],
   "source": [
    "#Soal 3\n",
    "\n",
    "spam = int(input('Input number:'))\n",
    "\n",
    "#Convert\n",
    "num_str = str(spam)\n",
    "\n",
    "#Calculate the sum of the nth powers of its digits\n",
    "n = len(num_str)\n",
    "digit_sum = sum(int(digit) ** n for digit in num_str)\n",
    "\n",
    "if digit_sum == spam:\n",
    "    print(f'{spam} is a narcissistic number')\n",
    "else:\n",
    "    print(f'{spam} is not a narcissistic number')"
   ]
  },
  {
   "cell_type": "markdown",
   "metadata": {},
   "source": [
    "#Soal 4\n",
    "\n",
    "This exercise continues our use of the modulo operator to determine if numbers are divisible by 3, 5, or both 3 and 5. Divisible by n, means that it can be divided by a number n with no remainder. For example, 10 is divisible by 5, but 11 is not divisible by 5.\n",
    "\n",
    "Write a simple program with a single integer variable named `upTo`. For the numbers 1 up to and including `upTo`, the function prints one of four things:\n",
    "\n",
    "- Prints `Fizz` if the number is only divisible by 3.\n",
    "- Prints `FizzBuzz` if the number is divisible by 3 and 5.\n",
    "- Prints `Buzz` if the number is only divisible by 5.\n",
    "- Prints the number if the number is neither divisible by 3 nor 5.\n",
    "\n",
    "Instead of printing each string or number on a separate line, print them without newlines. For\n",
    "example, your solution is correct if calling `upTo = 35` produces the following output:"
   ]
  },
  {
   "cell_type": "code",
   "execution_count": 27,
   "metadata": {},
   "outputs": [
    {
     "name": "stdout",
     "output_type": "stream",
     "text": [
      "1 2 Fizz 4 Buzz Fizz 7 8 Fizz Buzz 11 Fizz 13 14 FizzBuzz 16 17 Fizz 19 Buzz Fizz 22 23 Fizz Buzz 26 Fizz 28 29 FizzBuzz 31 32 Fizz 34 Buzz "
     ]
    }
   ],
   "source": [
    "#Soal 4\n",
    "\n",
    "def fizz_buzz(upTo):\n",
    "    for num in range (1, upTo + 1):\n",
    "        if num % 3 == 0 and num % 5 == 0:\n",
    "            print(\"FizzBuzz\", end=\" \")\n",
    "        elif num % 3 == 0:\n",
    "            print(\"Fizz\", end=\" \")\n",
    "        elif num % 5 == 0:\n",
    "            print(\"Buzz\", end=\" \")\n",
    "        else:\n",
    "            print(num, end=\" \")\n",
    "\n",
    "upTo = int(input('Enter a number (greater than 0) or QUIT:'))\n",
    "fizz_buzz(upTo)"
   ]
  },
  {
   "cell_type": "code",
   "execution_count": 19,
   "metadata": {},
   "outputs": [
    {
     "name": "stdout",
     "output_type": "stream",
     "text": [
      "The Fox and dog.\n"
     ]
    }
   ],
   "source": [
    "#Soal 5\n",
    "\n",
    "# input\n",
    "text = 'The Fox and fox.'\n",
    "oldText = 'fox' \n",
    "newText = 'dog'\n",
    "\n",
    "# output = 'The Fox and dog.'\n",
    "\n",
    "result = text.replace(oldText,newText)\n",
    "print(result)"
   ]
  },
  {
   "cell_type": "markdown",
   "metadata": {},
   "source": [
    "#Soal 6\n",
    "\n",
    "The Collatz sequence, also called the 3n + 1 problem, is the simplest impossible math problem (But don’t worry, the program itself is easy enough for beginners). From a starting number, *n*, follow three rules to get the next number in the sequence:\n",
    "\n",
    "- If *n* is `even`, the next number *n* is *n* / 2.\n",
    "- If *n* is `odd`, the next number *n* is *n* * 3 + 1.\n",
    "- If *n* is `1`, stop. Otherwise, repeat.\n",
    "\n",
    "It is generally thought, but so far not mathematically proven, that every starting number eventually terminates at 1. Write a simple program that prompts the user to select a starting number or quit. When user run the program, and the output will look like this:"
   ]
  },
  {
   "cell_type": "code",
   "execution_count": null,
   "metadata": {},
   "outputs": [],
   "source": [
    "#Soal 6\n",
    "\n",
    "def "
   ]
  }
 ],
 "metadata": {
  "kernelspec": {
   "display_name": "Python 3",
   "language": "python",
   "name": "python3"
  },
  "language_info": {
   "codemirror_mode": {
    "name": "ipython",
    "version": 3
   },
   "file_extension": ".py",
   "mimetype": "text/x-python",
   "name": "python",
   "nbconvert_exporter": "python",
   "pygments_lexer": "ipython3",
   "version": "3.11.5"
  },
  "orig_nbformat": 4
 },
 "nbformat": 4,
 "nbformat_minor": 2
}
